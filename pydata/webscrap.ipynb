{
 "cells": [
  {
   "cell_type": "code",
   "execution_count": 47,
   "metadata": {
    "scrolled": true
   },
   "outputs": [],
   "source": [
    "from selenium import webdriver\n",
    "from selenium.webdriver.common.by import By\n",
    "from selenium.webdriver.support.ui import WebDriverWait\n",
    "from selenium.webdriver.support import expected_conditions as EC\n",
    "import pandas as pd\n",
    "import urllib\n",
    "\n",
    "driver = webdriver.Chrome(\"./chromedriver.exe\")\n",
    "driver.get(\"https://www.google.com/search?q=caterpillar+320+excavator+truck&sxsrf=ACYBGNR24lT993TdzdN_tkUvK-xavqcrDg:1570252456103&source=lnms&tbm=isch&sa=X&ved=0ahUKEwj94emeroTlAhUP7awKHbD7CcUQ_AUIEigB&biw=1920&bih=937\")\n",
    "\n",
    "# try:\n",
    "#     element = WebDriverWait(driver, 2).until(EC.presence_of_element_located((By.ID, \"myDynamicElement\")))\n",
    "# finally:\n",
    "#     driver.quit()\n",
    "\n",
    "con_ele = driver.find_elements_by_css_selector(\"[data-async-rclass='search'] > div\")\n",
    "k = 0\n",
    "for i in con_ele:\n",
    "    try:\n",
    "        href = i.find_element_by_css_selector(\"a > img\")\n",
    "    except:\n",
    "        continue\n",
    "    \n",
    "    if href.get_attribute(\"src\") == None:\n",
    "        href = href.get_attribute(\"data-src\")\n",
    "        urllib.request.urlretrieve(href,str(k)+\".jpg\")\n",
    "        k+=1\n",
    "    else:\n",
    "        href = href.get_attribute(\"src\")\n",
    "        urllib.request.urlretrieve(href,str(k)+\".jpg\")\n",
    "        k+=1\n",
    "    \n",
    "\n",
    "driver.close()"
   ]
  },
  {
   "cell_type": "code",
   "execution_count": null,
   "metadata": {},
   "outputs": [],
   "source": []
  }
 ],
 "metadata": {
  "kernelspec": {
   "display_name": "Python 3",
   "language": "python",
   "name": "python3"
  },
  "language_info": {
   "codemirror_mode": {
    "name": "ipython",
    "version": 3
   },
   "file_extension": ".py",
   "mimetype": "text/x-python",
   "name": "python",
   "nbconvert_exporter": "python",
   "pygments_lexer": "ipython3",
   "version": "3.7.3"
  }
 },
 "nbformat": 4,
 "nbformat_minor": 2
}
